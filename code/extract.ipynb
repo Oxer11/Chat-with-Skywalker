{
 "cells": [
  {
   "cell_type": "code",
   "execution_count": 1,
   "metadata": {},
   "outputs": [],
   "source": [
    "from fastNLP.embeddings import StaticEmbedding\n",
    "from fastNLP import Vocabulary, BucketSampler, DataSetIter, SequentialSampler\n",
    "from fastNLP import DataSet\n",
    "from fastNLP.io.data_bundle import DataBundle\n",
    "from nltk.tokenize import word_tokenize\n",
    "from nltk.translate.bleu_score import sentence_bleu\n",
    "from tqdm import tqdm"
   ]
  },
  {
   "cell_type": "code",
   "execution_count": 2,
   "metadata": {},
   "outputs": [],
   "source": [
    "def load_data(path, keys):\n",
    "    metadata = {}\n",
    "    with open(path, 'r') as f:\n",
    "        for line in f:\n",
    "            line = line.split('+++$+++')\n",
    "            line = [x.strip() for x in line]\n",
    "            metadata[line[0]] = dict(zip(keys, line[1:]))\n",
    "    return metadata"
   ]
  },
  {
   "cell_type": "code",
   "execution_count": 3,
   "metadata": {},
   "outputs": [],
   "source": [
    "movie_titles = load_data('./data/cornell movie-dialogs corpus/movie_titles_metadata.txt', \n",
    "                         ['movie title', 'movie year', 'IMDB rating', 'no. IMDB votes', 'genres'])\n",
    "movie_characters = load_data('./data/cornell movie-dialogs corpus/movie_characters_metadata.txt',\n",
    "                            ['character name', 'movieID', 'movie title', 'gender', 'position in credits']) \n",
    "movie_lines = load_data('./data/cornell movie-dialogs corpus/movie_lines.txt',\n",
    "                       ['characterID', 'movieID', 'character name', 'utterance'])"
   ]
  },
  {
   "cell_type": "code",
   "execution_count": 4,
   "metadata": {},
   "outputs": [
    {
     "data": {
      "text/plain": [
       "{'character name': 'LUKE',\n",
       " 'movieID': 'm337',\n",
       " 'movie title': 'star wars: the empire strikes back',\n",
       " 'gender': 'm',\n",
       " 'position in credits': '?'}"
      ]
     },
     "execution_count": 4,
     "metadata": {},
     "output_type": "execute_result"
    }
   ],
   "source": [
    "movie_characters['u5100']"
   ]
  },
  {
   "cell_type": "code",
   "execution_count": 5,
   "metadata": {},
   "outputs": [
    {
     "data": {
      "text/plain": [
       "{'character name': 'LUKE',\n",
       " 'movieID': 'm489',\n",
       " 'movie title': 'star wars: episode vi - return of the jedi',\n",
       " 'gender': 'm',\n",
       " 'position in credits': '1'}"
      ]
     },
     "execution_count": 5,
     "metadata": {},
     "output_type": "execute_result"
    }
   ],
   "source": [
    "movie_characters['u7249']"
   ]
  },
  {
   "cell_type": "code",
   "execution_count": 6,
   "metadata": {},
   "outputs": [
    {
     "data": {
      "text/plain": [
       "{'character name': 'LUKE',\n",
       " 'movieID': 'm529',\n",
       " 'movie title': 'star wars',\n",
       " 'gender': 'm',\n",
       " 'position in credits': '1'}"
      ]
     },
     "execution_count": 6,
     "metadata": {},
     "output_type": "execute_result"
    }
   ],
   "source": [
    "movie_characters['u7824']"
   ]
  },
  {
   "cell_type": "code",
   "execution_count": 7,
   "metadata": {},
   "outputs": [
    {
     "name": "stdout",
     "output_type": "stream",
     "text": [
      "You won't.\n",
      "And that is why I must go.\n",
      "I feel The Force.\n",
      "I can help them!\n",
      "But Han and Leia will surely die.\n",
      "Ben ... Ben ...\n",
      "I'm cold ... so cold ...\n",
      "I can't ...\n",
      "How could you know my father? You don't even know who I am.  Can't we get on with this already?\n",
      "Because of my father, I guess.\n",
      "Will it take long to get there? How far away is he?\n",
      "Look, it smells good.  I'm sure it's delicious   But I don't know why we can't see Yoda now.\n",
      "... I told you, I'm not hungry.\n",
      "You know the Jedi Master?\n",
      "I'm not looking for a friend. I'm looking for a Jedi Master.\n",
      "Okay, Artoo, let him have it. Now get out of here, little fellow, we've got things to do.\n",
      "I don't want your help.  I want my lamp back.  I'll need it in this slimy mudhole.\n",
      "Give me that!\n",
      "Listen, friend, we didn't mean to land here, and if I could get my fighter out of this puddle I would, but I can't.  So ...\n",
      "I'm looking for a great warrior.\n",
      "Yeah ...\n",
      "I'm looking for someone.\n",
      "... Like we're being watched.\n",
      "I hope you make your peace with Jabba.\n",
      "About what?\n",
      "Probe?  What probe?\n",
      "Thanks to you.\n",
      "I'll see you shortly. A meteorite just hit the ground near here and I want to check it out .. Won't be long.\n",
      "I've finished my circle and I haven't picked up any life read- ings.\n",
      "I've never seen it fail.\n",
      "He'll survive.\n",
      "Leia!\n",
      "Snow creatures ... they're here?!\n",
      "Jabba the Hutt?\n",
      "Calm down, will ya?  Tell me about Han.\n",
      "Han's leaving?\n",
      "What are you talking about?\n",
      "I have this ... feeling.  I'm not sure, really ...\n",
      "Leia ... What would you think if I went away for a while?\n",
      "I'm fine.  Really.  Leia ... when I was out there and it looked pretty bad ... well, it made me think about things.\n",
      "And sacrifice Han and Leia?\n",
      "I've learned so much since then.  And I'll return to finish ... I promise that, master.\n",
      "They're my friends.\n",
      "Will they die?\n",
      "I see them! ... They're in pain ... they're suffering.\n",
      "I see a city in the clouds.\n",
      "My mind fills with so many images.\n",
      "Ben?  Ben?\n",
      "What's in there?\n",
      "I feel cold.\n",
      "Yes ... I also feel danger ... death.  Something's not right.\n",
      "But tell me why ...\n",
      "But how am I to know the good side from the dark?\n",
      "Lord Vader ... Is the dark side stronger?\n",
      "Price?  What do you mean?\n",
      "But I feel The Force flowing!\n",
      "They're a lot stronger than I'm used to.\n",
      "I thought those seekers were set for stun!\n",
      "I don't believe it.\n",
      "I can't. It's too big.\n",
      "Okay.  I'll give it a try.\n",
      "Master, moving rocks is one thing, but this is a little different.\n",
      "I thought I was in good shape.\n",
      "I will not fail you.  I'm not afraid.\n",
      "I have followed my feelings.\n",
      "Why not me?\n",
      "Never.\n",
      "No! .... Never ....\n",
      "Time will tell.\n",
      "I'll die first.\n",
      "No!\n",
      "You'll find I'm full of surprises.\n",
      "But you can't let her get involved now, Ben. Vader will destroy her.\n",
      "Leia! Leia's my sister.\n",
      "But I have no sister.\n",
      "Yoda spoke of another.\n",
      "I can't kill my own father.\n",
      "But I had to help my friends.\n",
      "I tried to stop him once. I couldn't do it.\n",
      "I can't do it, Ben.\n",
      "There's still good in him.\n",
      "You told me Vader betrayed and murdered my father.\n",
      "I can't do it, Artoo. I can't go on alone.\n",
      "Threepio, tell them if they don't do as you wish, you'll become angry and use your magic.\n",
      "Han, don't. It'll be all right.\n",
      "Will you take it easy? Let's just figure out a way to get out of this thing.  Han, can you reach my lightsaber?\n",
      "Come on, Artoo.  We'll need your scanners.\n",
      "We got separated.\n",
      "Quietly, there might be more of them out there.\n",
      "I'm endangering the mission. I shouldn't have come.\n",
      "Vader's on that ship.\n",
      "All set.\n",
      "Yeah, she's comin' up.\n",
      "Hi, Han... Chewie.\n",
      "I have a promise I have to keep first... to an old friend.\n",
      "Just stick close to Chewie and Lando. I've taken care of everything.\n",
      "There's nothing to see. I used to live here, you know.\n",
      "The same as always.\n",
      "Wouldn't miss it.\n",
      "Are you all right?\n",
      "Han!\n",
      "Because...there is good in him. I've felt it. He won't turn me over to the Emperor. I can save him. I can turn him back to the good side. I have to try.\n",
      "No, you don't. You've always been strong.\n",
      "Then you know why I have to face him.\n",
      "Yes. It's you Leia.\n",
      "You're wrong, Leia. You have that power too. In time you'll learn to use it as I have. The Force is strong in my family. My father has it...I have it...and...my sister has it.\n",
      "There's more. It won't be easy for you to hear it, but you must. If I don't make it back, you're the only hope for the Alliance.\n",
      "He's my father.\n",
      "Vader is here...now, on this moon.\n",
      "I have no memory of my mother. I never knew her.\n",
      "Tell me.\n",
      "What do you remember?\n",
      "Leia... do you remember your mother? Your real mother?\n",
      "I see them. Wait, Leia!\n",
      "Never-r-r!\n",
      "I will not fight you.\n",
      "You couldn't bring yourself to kill me before, and I don't believe you'll destroy me now.\n",
      "Your thoughts betray you, father. I feel the good in you...the conflict.\n",
      "I will not fight you, father.\n",
      "Search your feelings, father. You can't do this. I feel the conflict within you. Let go of your hate.\n",
      "I will not turn...and you'll be forced to kill me.\n",
      "Come with me.\n",
      "I know, father.\n",
      "Well, I'm sorry.\n",
      "Unfortunate that I know the truth?\n",
      "Yes.\n",
      "Yoda, I must know.\n",
      "But I need your help. I've come back to complete the training.\n",
      "Master Yoda, you can't die.\n",
      "The Kiber Crystal.\n",
      "I'm not going alone!\n",
      "What about the princess?\n",
      "I don't get it, but I guess I did block it.\n",
      "I can't do it.  I'll get hit.\n",
      "I can't see!  How can I fight?\n",
      "You mean we should go after her!...\n",
      "He can't find Organa Major.\n",
      "What do I do?\n",
      "Are you sure you don't need it?\n",
      "Are you all right?\n",
      "What's wrong?  What's happening?\n",
      "But she's a member of The Twelve Families.  How can they hold her?\n",
      "When we get Artoo's message to them, you think they'll try to rescue the princess?\n",
      "This is the last place.  Shouldn't we just take what we can get and think of something else?\n",
      "We don't have that kind of money. How much do you think I can get for the speeder?\n",
      "Like Bogan weather, or bogan times. I thought that was just a saying.\n",
      "Do the Sith know the ways of the Force?\n",
      "That's where my father was killed.\n",
      "Don't you have a Kiber crystal?\n",
      "How can you store an energy field within you?\n",
      "But you're still a powerful Jedi. You don't need my help.\n",
      "What do you mean?\n",
      "Could I learn to feel it?\n",
      "You mean I generate an energy field?\n",
      "My father used to talk about the Force of Others.  But he never told me what it was...\n",
      "But the Sith Lords are involved! Whatever information this R-2 unit is carrying, it must be awfully important.  They're probably looking for him... I'm no match for the Sith. This is a Jedi's work.  This is your responsibility!\n",
      "But you must!  I can't do it alone. I'm not at all like my father.  I'd never make it.\n",
      "My father told me many stories about you.  He said if I was ever in trouble, to come here... I need your help.\n",
      "I assure you my intentions weren't bad.\n",
      "You saw through me?\n",
      "I... I'm not a Bendu Officer.  I'm not even a startrooper.\n",
      "But you are... I know your 'Diary of the Clone Wars' by heart.  My father...\n",
      "I am the son of Annikin Starkiller.\n",
      "You're General Kenobi?!?  The Jedi knight!  The commander of the White Legions?\n",
      "Who are you anyway?\n",
      "Of course.  I'm a Bendu officer.\n",
      "I'm Luke Starkiller, guardian of the Bendu.\n",
      "Couldn't we have tried to think of something else first!\n",
      "What do you mean, 'good morning'? Do you mean that it is a good morning for you, or do you wish me a good morning, although it is obvious I'm not having one, or do you find that mornings in general are good?\n",
      "At least you're doing something... I'd give anything to be in your position.\n",
      "But you always said things were so great at the academy... What happened?\n",
      "But there was a lot of firing earlier...\n",
      "You look great!  The uniform and everything!\n",
      "Yes, sir, but I can get him...\n",
      "I'm right behind you, Blue Leader.\n",
      "I've got it blocked.  I'm all right.\n",
      "Yes, sir.\n",
      "Yes, sir.  I was considered one of the best bush pilots on Sullust. I've also had six hours on the T-2.\n",
      "Yes, sir.\n",
      "Thanks, old buddy.  I'll be with you in a second.\n",
      "You're a good pilot... I've learned a lot from you... I wish you...\n",
      "They must be shielded somehow.  I'm sure the base is there.\n",
      "Come back here... Where are you going?\n",
      "It's only light that doesn't affect it.  Solid things, like rocks, can hurt it!  Fire above him!\n",
      "Get Chewbacca.  Try to get around it. I'll draw it away.\n",
      "Is he afraid of the water?\n",
      "I think she's going to be all right.\n",
      "See Threepio, come in, See Threepio. I wonder where they are??  See Threepio...\n",
      "Something has happened to them. Let's try this way...\n",
      "Why didn't you say so before.\n",
      "Between his howling and your blasting everything in sight, the entire city is going to know we're here.\n",
      "I don't know... I've never fought anyone.\n",
      "Well, I practice a lot...\n",
      "Maybe the fact that no one would go there voluntarily could help us. They probably don't think anyone would dare try.\n",
      "Maybe you should just drop us off. I'm sure we can find someone willing to take the risk.\n",
      "You can't!  We've come this far.  We must find them...\n",
      "What are you saying?\n",
      "You don't believe in the Force?\n",
      "Who's the pilot?\n",
      "We have a little business to take care of first, but it shouldn't take long. We'll be back shortly.\n",
      "That's pretty steep.  We'd like to talk it over first.\n",
      "The... ah door's jammed.  Give us a few minutes to get it fixed.\n",
      "No need, everything's under control.\n",
      "A Wookiee broke loose up here, but we've subdued him... There is a lot of damage, and three, no four, casualties...\n",
      "I... I don't know.  I guess I never thought about it... I just want to help.  I want to be in on the attack. I want my own ship.\n",
      "Are there medical facilities on Yavin?\n",
      "I am Luke Starkiller at your service.\n",
      "You're safe.  We've come to get you out of here... Just relax.\n",
      "You used my savings!  You stole my savings.  If my father were here...\n",
      "But you promised!  I've saved enough money and now you have the extra help ... you promised!\n",
      "I will, but I'll have enough time to transmit my application first.\n",
      "I'd consider it an honor.\n",
      "Threepio!  Shut down all garbage mashers on your level... Do you copy?? Threepio, shut down all garbage...\n",
      "Holy Maker, Threepio.  I forgot...\n",
      "See Threepio!  Do you copy?\n",
      "Good.  We're right above you.  Stand by.\n",
      "Are you safe?\n",
      "You're back.  What happened?  Never mind.  What's going on?\n",
      "See Threepio... do you copy?\n",
      "Send feed-back into the control sensors in that Detention block.\n",
      "Let him have it.  You're winning anyway.  It doesn't make any difference.\n",
      "Well, ask him.  Tell him we need five thousand.\n",
      "I think we're going to need them. Blast it!\n",
      "No, you're not.  What kind of talk is that...\n",
      "Can you stand?  We've got to get out of here before those Tuskens come back.\n",
      "Well, I don't know what to do now. We'll just have to head inland and see if we can't find a settlement.\n",
      "According to my father's tapes, this is the spot where General Kenobi lives, but the instruments just don't match up with the landscape... There is no doubt about it, we're lost...\n",
      "Tell me where you've been.  I am going to become a startrooper and fight in the wars.  My father was a Jedi!  Were you in many battles?\n",
      "You've been in the Counter Wars?... Against the Empire?\n",
      "There's a lot of carbon scoring here. It looks like you boys have seen a lot of action...\n",
      "That's all right.  There is nothing anyone can do about it.  You can call me Luke.\n",
      "Not unless you could get me into the military academy at Anchorhead.\n"
     ]
    }
   ],
   "source": [
    "utt = []\n",
    "for line in movie_lines:\n",
    "    if movie_lines[line]['characterID'] in ['u5100', 'u7249', 'u7824']:\n",
    "        print(movie_lines[line]['utterance'])\n",
    "        utt.append(movie_lines[line]['utterance'])\n",
    "#print(utt[:20])"
   ]
  },
  {
   "cell_type": "code",
   "execution_count": 9,
   "metadata": {},
   "outputs": [],
   "source": [
    "fout = open(\"Luke.txt\", \"w\")\n",
    "for i in utt:\n",
    "    fout.write(i + \"\\n\")\n",
    "fout.close()"
   ]
  },
  {
   "cell_type": "code",
   "execution_count": 10,
   "metadata": {},
   "outputs": [],
   "source": [
    "utt = [word_tokenize(x) for x in utt]"
   ]
  },
  {
   "cell_type": "code",
   "execution_count": 64,
   "metadata": {},
   "outputs": [
    {
     "name": "stdout",
     "output_type": "stream",
     "text": [
      "['He', 'is', 'in', 'the', 'cabinet', '.']\n"
     ]
    }
   ],
   "source": [
    "sen = \"He is in the cabinet .\"\n",
    "sen = word_tokenize(sen)\n",
    "print(sen)"
   ]
  },
  {
   "cell_type": "code",
   "execution_count": 65,
   "metadata": {},
   "outputs": [
    {
     "name": "stdout",
     "output_type": "stream",
     "text": [
      "[(6.17087516772532e-155, ['I', 'am', 'the', 'son', 'of', 'Annikin', 'Starkiller', '.']), (6.17087516772532e-155, ['I', 'thought', 'I', 'was', 'in', 'good', 'shape', '.']), (7.2900276358863456e-155, ['He', 'ca', \"n't\", 'find', 'Organa', 'Major', '.']), (7.2900276358863456e-155, ['There', \"'s\", 'still', 'good', 'in', 'him', '.']), (8.612150057732663e-155, ['He', \"'ll\", 'survive', '.']), (8.612150057732663e-155, ['He', \"'s\", 'my', 'father', '.']), (0.004150087420293821, ['Tell', 'me', 'where', 'you', \"'ve\", 'been', '.', 'I', 'am', 'going', 'to', 'become', 'a', 'startrooper', 'and', 'fight', 'in', 'the', 'wars', '.', 'My', 'father', 'was', 'a', 'Jedi', '!', 'Were', 'you', 'in', 'many', 'battles', '?']), (0.08040396667843576, ['You', \"'ve\", 'been', 'in', 'the', 'Counter', 'Wars', '?', '...', 'Against', 'the', 'Empire', '?']), (0.18500758885923071, ['You', 'do', \"n't\", 'believe', 'in', 'the', 'Force', '?']), (0.2265870956238665, ['I', 'see', 'a', 'city', 'in', 'the', 'clouds', '.'])]\n"
     ]
    }
   ],
   "source": [
    "score = [(sentence_bleu([x], sen, weights=(0.5, 0.5, 0, 0)), x) for x in utt]\n",
    "print(sorted(score)[-10:])"
   ]
  },
  {
   "cell_type": "code",
   "execution_count": null,
   "metadata": {},
   "outputs": [],
   "source": []
  }
 ],
 "metadata": {
  "kernelspec": {
   "display_name": "Python 3",
   "language": "python",
   "name": "python3"
  },
  "language_info": {
   "codemirror_mode": {
    "name": "ipython",
    "version": 3
   },
   "file_extension": ".py",
   "mimetype": "text/x-python",
   "name": "python",
   "nbconvert_exporter": "python",
   "pygments_lexer": "ipython3",
   "version": "3.7.1"
  }
 },
 "nbformat": 4,
 "nbformat_minor": 2
}
